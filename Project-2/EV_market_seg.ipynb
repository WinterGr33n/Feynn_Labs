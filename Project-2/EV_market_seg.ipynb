{
 "cells": [
  {
   "cell_type": "code",
   "execution_count": null,
   "metadata": {},
   "outputs": [],
   "source": [
    "import pandas as pd\n",
    "import matplotlib.pyplot as plt\n",
    "import seaborn as sns\n",
    "from sklearn.preprocessing import StandardScaler\n",
    "from sklearn.decomposition import PCA\n",
    "from sklearn.cluster import KMeans\n",
    "from sklearn.metrics import silhouette_score"
   ]
  },
  {
   "cell_type": "code",
   "execution_count": null,
   "metadata": {},
   "outputs": [],
   "source": [
    "#dataset1\n",
    "pcs = pd.read_csv(\"PCS_data.csv\")\n",
    "\n",
    "pcs.head()\n"
   ]
  },
  {
   "cell_type": "code",
   "execution_count": null,
   "metadata": {},
   "outputs": [],
   "source": [
    "#dataset2\n",
    "ev = pd.read_csv(\"EV_India.csv\")\n",
    "\n",
    "ev.head()"
   ]
  },
  {
   "cell_type": "code",
   "execution_count": null,
   "metadata": {},
   "outputs": [],
   "source": [
    "PCS_EV_data = pd.merge(ev, pcs, on='States/UTs', how='outer')\n",
    "\n",
    "PCS_EV_data.to_csv('merged(EV&PCS)_dataset.csv', index=False)\n",
    "\n",
    "#combined data is for geagraphical analysis\n",
    "ge_data = PCS_EV_data.copy()\n",
    "\n",
    "ge_data"
   ]
  },
  {
   "cell_type": "code",
   "execution_count": null,
   "metadata": {},
   "outputs": [],
   "source": [
    "pe_data = pd.read_csv(\"ev_models.csv\")\n",
    "\n",
    "pe_data.head()"
   ]
  },
  {
   "cell_type": "code",
   "execution_count": null,
   "metadata": {},
   "outputs": [],
   "source": [
    "#loading the behavior/demographic dataset\n",
    "de_data = pd.read_csv(\"Indian automoble buying behavour study.csv\")\n",
    "\n",
    "de_data.head(5)"
   ]
  },
  {
   "cell_type": "code",
   "execution_count": null,
   "metadata": {},
   "outputs": [],
   "source": [
    "ge_data.describe()\n"
   ]
  },
  {
   "cell_type": "code",
   "execution_count": null,
   "metadata": {},
   "outputs": [],
   "source": [
    "de_data.describe()"
   ]
  },
  {
   "cell_type": "code",
   "execution_count": null,
   "metadata": {},
   "outputs": [],
   "source": [
    "# Check for missing values\n",
    "print(ge_data.isnull().sum())\n",
    "\n",
    "print(de_data.isnull().sum())\n"
   ]
  },
  {
   "cell_type": "markdown",
   "metadata": {},
   "source": [
    "Geographic distributions"
   ]
  },
  {
   "cell_type": "code",
   "execution_count": null,
   "metadata": {},
   "outputs": [],
   "source": [
    "ge_sorted = ge_data.sort_values(by='Total Electric Vehicle', ascending=False)"
   ]
  },
  {
   "cell_type": "code",
   "execution_count": null,
   "metadata": {},
   "outputs": [],
   "source": [
    "plt.figure(figsize=(14, 7))\n",
    "\n",
    "# Number of EVs by State\n",
    "plt.subplot(2, 1, 1)\n",
    "sns.barplot(x='States/UTs', y='Total Electric Vehicle', data= ge_sorted)\n",
    "plt.xticks(rotation=90)\n",
    "plt.title('Number of Electric Vehicles by State')\n",
    "\n",
    "\n",
    "#maharashtra and Karnataka  have most no. of EVs with Delhi being a cose third."
   ]
  },
  {
   "cell_type": "code",
   "execution_count": null,
   "metadata": {},
   "outputs": [],
   "source": [
    "plt.figure(figsize=(14, 7))\n",
    "\n",
    "# Distribution of EV Chargers\n",
    "plt.subplot(2, 1, 1)\n",
    "sns.histplot(ge_data['Number of EV Chargers'], bins=20, kde=True)\n",
    "plt.title('Distribution of EV Chargers')\n",
    "\n",
    "# Distribution of Charging Points\n",
    "plt.subplot(2, 1, 2)\n",
    "sns.histplot(ge_data['Number of Charging Points/Vehicle Connectors'], bins=20, kde=True)\n",
    "plt.title('Distribution of Charging Points')\n",
    "\n",
    "plt.tight_layout()\n",
    "plt.show()"
   ]
  },
  {
   "cell_type": "code",
   "execution_count": null,
   "metadata": {},
   "outputs": [],
   "source": [
    "# Assuming the merged dataset is named merged_df\n",
    "plt.figure(figsize=(12, 8))\n",
    "sns.pointplot(data=ge_data, y='States/UTs', x='No. of Operational Public Charging Station (PCS)', color='orange')\n",
    "plt.xlabel('Number of Operational Public Charging Stations (PCS)', family='serif', size=12, labelpad=10)\n",
    "plt.ylabel('State/UT', family='serif', size=12)\n",
    "plt.tick_params(direction='inout')\n",
    "plt.xticks(family='serif', size=10)\n",
    "plt.yticks(family='serif', size=10)\n",
    "plt.title(label='Available Public Charging Stations for EVs in India', weight=200, family='serif', size=15, pad=12)\n",
    "plt.show()"
   ]
  },
  {
   "cell_type": "markdown",
   "metadata": {},
   "source": [
    "Demographic distributions"
   ]
  },
  {
   "cell_type": "code",
   "execution_count": null,
   "metadata": {},
   "outputs": [],
   "source": [
    "plt.figure(figsize=(14, 7))\n",
    "\n",
    "# Distribution of Age\n",
    "plt.subplot(2, 1, 1)\n",
    "sns.histplot(de_data['Age'], bins=20, kde=True)\n",
    "plt.title('Distribution of Age')\n",
    "\n",
    "# Distribution of Salary\n",
    "plt.subplot(2, 1, 2)\n",
    "sns.histplot(de_data['Salary'], bins=20, kde=True)\n",
    "plt.title('Distribution of Salary')\n",
    "\n",
    "plt.tight_layout()\n",
    "plt.show()\n",
    "\n"
   ]
  },
  {
   "cell_type": "code",
   "execution_count": null,
   "metadata": {},
   "outputs": [],
   "source": [
    "plt.figure(figsize=(10, 6))\n",
    "sns.scatterplot(x='Age', y='Salary', data=de_data)\n",
    "plt.title('Age vs Salary')\n",
    "plt.xlabel('Age')\n",
    "plt.ylabel('Salary')\n",
    "plt.show()\n"
   ]
  },
  {
   "cell_type": "code",
   "execution_count": null,
   "metadata": {},
   "outputs": [],
   "source": [
    "\n",
    "car_make_counts = de_data['Make'].value_counts()\n",
    "\n",
    "plt.figure(figsize=(3, 3))  # Adjust the figure size as needed\n",
    "car_make_counts.plot.pie(radius=2, cmap='viridis', startangle=0, textprops=dict(family='serif'))\n",
    "plt.pie(x=[1], radius=1.2, colors='white')\n",
    "plt.title(label='Distribution of Cars', family='serif', size=10, pad=100)\n",
    "plt.ylabel('')\n",
    "plt.show()"
   ]
  },
  {
   "cell_type": "markdown",
   "metadata": {},
   "source": [
    "EV distributions\n"
   ]
  },
  {
   "cell_type": "code",
   "execution_count": null,
   "metadata": {},
   "outputs": [],
   "source": [
    "plt.figure(figsize=(10, 6))\n",
    "sns.scatterplot(x='Range_Km', y='PriceEuro', hue='Brand', data=pe_data)\n",
    "plt.title('Range vs Price of EVs')\n",
    "plt.xlabel('Range (Km)')\n",
    "plt.ylabel('Price (Euro)')\n",
    "plt.legend(bbox_to_anchor=(1.05, 1), loc='upper left')\n",
    "plt.show()"
   ]
  },
  {
   "cell_type": "markdown",
   "metadata": {},
   "source": [
    "Segmentation"
   ]
  },
  {
   "cell_type": "code",
   "execution_count": null,
   "metadata": {},
   "outputs": [],
   "source": [
    "numeric_features = ['Age', 'No of Dependents', 'Salary', 'Wife Salary', 'Total Salary', 'Price']\n",
    "categorical_features = ['Profession', 'Marrital Status', 'Education', 'Personal loan', 'House Loan', 'Wife Working']\n",
    "\n",
    "\n",
    "X_numeric = de_data[numeric_features]\n",
    "X_categorical = pd.get_dummies(de_data[categorical_features])\n",
    "\n",
    "X = pd.concat([X_numeric, X_categorical], axis=1)"
   ]
  },
  {
   "cell_type": "code",
   "execution_count": null,
   "metadata": {},
   "outputs": [],
   "source": [
    "scaler = StandardScaler()\n",
    "X_scaled = scaler.fit_transform(X)"
   ]
  },
  {
   "cell_type": "code",
   "execution_count": null,
   "metadata": {},
   "outputs": [],
   "source": [
    "pca = PCA(n_components=2)\n",
    "X_pca = pca.fit_transform(X_scaled)"
   ]
  },
  {
   "cell_type": "code",
   "execution_count": null,
   "metadata": {},
   "outputs": [],
   "source": [
    "wcss = []\n",
    "for i in range(1, 11):\n",
    "    kmeans = KMeans(n_clusters=i, init='k-means++', max_iter=300, n_init=10, random_state=0)\n",
    "    kmeans.fit(X_pca)\n",
    "    wcss.append(kmeans.inertia_)\n"
   ]
  },
  {
   "cell_type": "code",
   "execution_count": null,
   "metadata": {},
   "outputs": [],
   "source": [
    "plt.figure(figsize=(10, 6))\n",
    "plt.plot(range(1, 11), wcss)\n",
    "plt.title('Elbow Method')\n",
    "plt.xlabel('Number of clusters')\n",
    "plt.ylabel('WCSS')\n",
    "plt.show()"
   ]
  },
  {
   "cell_type": "code",
   "execution_count": null,
   "metadata": {},
   "outputs": [],
   "source": [
    "# Choose the optimal number of clusters (let's say it's 4, but adjust based on the elbow curve)\n",
    "n_clusters = 3\n",
    "\n",
    "# Perform K-means clustering\n",
    "kmeans = KMeans(n_clusters=n_clusters, init='k-means++', max_iter=300, n_init=10, random_state=0)\n",
    "cluster_labels = kmeans.fit_predict(X_pca)\n"
   ]
  },
  {
   "cell_type": "code",
   "execution_count": null,
   "metadata": {},
   "outputs": [],
   "source": [
    "de_data['Cluster'] = cluster_labels\n",
    "\n",
    "# Visualize the clusters\n",
    "plt.figure(figsize=(10, 6))\n",
    "scatter = plt.scatter(X_pca[:, 0], X_pca[:, 1], c=cluster_labels, cmap='viridis')\n",
    "plt.title('Customer Segments')\n",
    "plt.xlabel('First Principal Component')\n",
    "plt.ylabel('Second Principal Component')\n",
    "plt.colorbar(scatter)\n",
    "plt.show()"
   ]
  },
  {
   "cell_type": "code",
   "execution_count": null,
   "metadata": {},
   "outputs": [],
   "source": [
    "# Calculate silhouette score\n",
    "silhouette_avg = silhouette_score(X_pca, cluster_labels)\n",
    "print(f\"The average silhouette score is: {silhouette_avg}\")\n",
    "\n",
    "# Visualize the distribution of car makes in each cluster\n",
    "plt.figure(figsize=(12, 6))\n",
    "sns.countplot(x='Cluster', hue='Make', data=de_data)\n",
    "plt.title('Distribution of Car Makes in Each Cluster')\n",
    "plt.show()"
   ]
  }
 ],
 "metadata": {
  "kernelspec": {
   "display_name": "Python 3",
   "language": "python",
   "name": "python3"
  },
  "language_info": {
   "codemirror_mode": {
    "name": "ipython",
    "version": 3
   },
   "file_extension": ".py",
   "mimetype": "text/x-python",
   "name": "python",
   "nbconvert_exporter": "python",
   "pygments_lexer": "ipython3",
   "version": "3.12.4"
  }
 },
 "nbformat": 4,
 "nbformat_minor": 2
}
